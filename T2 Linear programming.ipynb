{
 "cells": [
  {
   "cell_type": "markdown",
   "id": "130f45a5",
   "metadata": {},
   "source": [
    "### T2 Linear programming with PuLP"
   ]
  },
  {
   "cell_type": "markdown",
   "id": "d6726a8f",
   "metadata": {},
   "source": [
    "PuLP is an LP modeler solving linear programming problems. You need to install PuLP before using. If you are using Anaconda/Miniconda, open the Conda Terminal and install PuLP:\n",
    "\n",
    "    (base) C:\\Users\\YourName>conda activate env_tutorial\n",
    "    (env_tutorial) C:\\Users\\YourName>conda install -c conda-forge pulp"
   ]
  },
  {
   "cell_type": "code",
   "execution_count": 1,
   "id": "ab2e6c2e",
   "metadata": {},
   "outputs": [],
   "source": [
    "import numpy as np\n",
    "import pandas as pd\n",
    "from pulp import *"
   ]
  },
  {
   "cell_type": "markdown",
   "id": "f9a395bd",
   "metadata": {},
   "source": [
    "To solve for an LP problem, the general steps are:\n",
    "\n",
    "1. Create the model\n",
    "2. Initiate decision variables\n",
    "3. Add constraints\n",
    "4. Add objective function\n",
    "5. Specify solver and solve the model\n",
    "6. Check the result"
   ]
  },
  {
   "cell_type": "markdown",
   "id": "c48e7862",
   "metadata": {},
   "source": [
    "#### 1. Create the model."
   ]
  },
  {
   "cell_type": "code",
   "execution_count": 2,
   "id": "9c7fbd04",
   "metadata": {},
   "outputs": [],
   "source": [
    "model = LpProblem(name=\"myproblem\", sense=LpMinimize)"
   ]
  },
  {
   "cell_type": "markdown",
   "id": "9676a75f",
   "metadata": {},
   "source": [
    "#### 2. Initialize the decision variables."
   ]
  },
  {
   "cell_type": "code",
   "execution_count": 3,
   "id": "325f4b71",
   "metadata": {},
   "outputs": [],
   "source": [
    "H1 = LpVariable(name=\"H1\", cat = \"Integer\", lowBound=0)\n",
    "H2 = LpVariable(name=\"H2\", cat = \"Integer\", lowBound=0)\n",
    "H3 = LpVariable(name=\"H3\", cat = \"Integer\", lowBound=0)\n",
    "\n",
    "F1 = LpVariable(name=\"F1\", cat = \"Integer\", lowBound=0)\n",
    "F2 = LpVariable(name=\"F2\", cat = \"Integer\", lowBound=0)\n",
    "F3 = LpVariable(name=\"F3\", cat = \"Integer\", lowBound=0)\n",
    "\n",
    "W1 = LpVariable(name=\"W1\", cat = \"Integer\", lowBound=0)\n",
    "W2 = LpVariable(name=\"W2\", cat = \"Integer\", lowBound=0)\n",
    "W3 = LpVariable(name=\"W3\", cat = \"Integer\", lowBound=0)\n",
    "\n",
    "I1 = LpVariable(name=\"I1\", lowBound=0)\n",
    "I2 = LpVariable(name=\"I2\", lowBound=0)\n",
    "I3 = LpVariable(name=\"I3\", lowBound=0)\n",
    "\n",
    "B1 = LpVariable(name=\"B1\", lowBound=0)\n",
    "B2 = LpVariable(name=\"B2\", lowBound=0)\n",
    "B3 = LpVariable(name=\"B3\", lowBound=0)\n",
    "\n",
    "P1 = LpVariable(name=\"P1\", lowBound=0)\n",
    "P2 = LpVariable(name=\"P2\", lowBound=0)\n",
    "P3 = LpVariable(name=\"P3\", lowBound=0)"
   ]
  },
  {
   "cell_type": "code",
   "execution_count": 4,
   "id": "5285dde9",
   "metadata": {},
   "outputs": [],
   "source": [
    "# Input the demand data and workday data.\n",
    "D1 = 500\n",
    "D2 = 320\n",
    "D3 = 400\n",
    "\n",
    "T1 = 20\n",
    "T2 = 16\n",
    "T3 = 23"
   ]
  },
  {
   "cell_type": "markdown",
   "id": "e5af7670",
   "metadata": {},
   "source": [
    "#### 3. Add the constraints to the model."
   ]
  },
  {
   "cell_type": "code",
   "execution_count": 5,
   "id": "0024230f",
   "metadata": {},
   "outputs": [],
   "source": [
    "# Workforce balance constraint.\n",
    "model += (W1 == 1200 + H1 - F1, \"wf-const-1\")\n",
    "model += (W2 == W1 + H2 - F2, \"wf-const-2\")\n",
    "model += (W3 == W2 + H3 - F3, \"wf-const-3\")\n",
    "\n",
    "# Production/Capacity balance constraint.\n",
    "model += (P1 == W1*T1*0.02, \"prod-const-1\")\n",
    "model += (P2 == W2*T2*0.02, \"prod-const-2\")\n",
    "model += (P3 == W3*T3*0.02, \"prod-const-3\")\n",
    "\n",
    "# Inventory balance constraint.\n",
    "model += (I1 - B1 == 0 - 0 + P1 - D1, \"inv-const-1\")\n",
    "model += (I2 - B2 == I1 - B1 + P2 - D2, \"inv-const-2\")\n",
    "model += (I3 - B3 == I2 - B2 + P3 - D3, \"inv-const-3\")\n",
    "\n",
    "# End-of-period constraint.\n",
    "model += (I3 - B3 >= 0, \"inv-const-end\")"
   ]
  },
  {
   "cell_type": "markdown",
   "id": "24a71e37",
   "metadata": {},
   "source": [
    "#### 5.Add the objective function to the model."
   ]
  },
  {
   "cell_type": "code",
   "execution_count": 6,
   "id": "88024159",
   "metadata": {},
   "outputs": [],
   "source": [
    "# Input cost data.\n",
    "cH = 1000\n",
    "cF = 2000\n",
    "cI = 500\n",
    "cB = 2000\n",
    "w = 100\n",
    "\n",
    "# Define objective function.\n",
    "obj_func = cH*(H1+H2+H3) + cF*(F1+F2+F3) + cI*(I1+I2+I3) + cB*(B1+B2+B3) + w*(T1*W1+T2*W2+T3*W3)\n",
    "model += obj_func"
   ]
  },
  {
   "cell_type": "code",
   "execution_count": 7,
   "id": "3dcee1ca",
   "metadata": {},
   "outputs": [
    {
     "data": {
      "text/plain": [
       "myproblem:\n",
       "MINIMIZE\n",
       "2000*B1 + 2000*B2 + 2000*B3 + 2000*F1 + 2000*F2 + 2000*F3 + 1000*H1 + 1000*H2 + 1000*H3 + 500*I1 + 500*I2 + 500*I3 + 2000*W1 + 1600*W2 + 2300*W3 + 0\n",
       "SUBJECT TO\n",
       "wf_const_1: F1 - H1 + W1 = 1200\n",
       "\n",
       "wf_const_2: F2 - H2 - W1 + W2 = 0\n",
       "\n",
       "wf_const_3: F3 - H3 - W2 + W3 = 0\n",
       "\n",
       "prod_const_1: P1 - 0.4 W1 = 0\n",
       "\n",
       "prod_const_2: P2 - 0.32 W2 = 0\n",
       "\n",
       "prod_const_3: P3 - 0.46 W3 = 0\n",
       "\n",
       "inv_const_1: - B1 + I1 - P1 = -500\n",
       "\n",
       "inv_const_2: B1 - B2 - I1 + I2 - P2 = -320\n",
       "\n",
       "inv_const_3: B2 - B3 - I2 + I3 - P3 = -400\n",
       "\n",
       "inv_const_end: - B3 + I3 >= 0\n",
       "\n",
       "VARIABLES\n",
       "B1 Continuous\n",
       "B2 Continuous\n",
       "B3 Continuous\n",
       "0 <= F1 Integer\n",
       "0 <= F2 Integer\n",
       "0 <= F3 Integer\n",
       "0 <= H1 Integer\n",
       "0 <= H2 Integer\n",
       "0 <= H3 Integer\n",
       "I1 Continuous\n",
       "I2 Continuous\n",
       "I3 Continuous\n",
       "P1 Continuous\n",
       "P2 Continuous\n",
       "P3 Continuous\n",
       "0 <= W1 Integer\n",
       "0 <= W2 Integer\n",
       "0 <= W3 Integer"
      ]
     },
     "execution_count": 7,
     "metadata": {},
     "output_type": "execute_result"
    }
   ],
   "source": [
    "# Check the model.\n",
    "model"
   ]
  },
  {
   "cell_type": "markdown",
   "id": "5090bbb4",
   "metadata": {},
   "source": [
    "#### 5. Solve the model."
   ]
  },
  {
   "cell_type": "code",
   "execution_count": 8,
   "id": "b4adae4b",
   "metadata": {},
   "outputs": [
    {
     "data": {
      "text/plain": [
       "1"
      ]
     },
     "execution_count": 8,
     "metadata": {},
     "output_type": "execute_result"
    }
   ],
   "source": [
    "# Specify the solver to be GLPK (optional)\n",
    "path_to = r'C:\\Users\\June\\miniconda3\\envs\\env_tutorial\\Library\\bin\\glpsol.exe'\n",
    "solver = GLPK_CMD(path=path_to)\n",
    "\n",
    "# Solve the problem\n",
    "status = model.solve(solver)\n",
    "\n",
    "# status meaning: {0: 'Not Solved', 1: 'Optimal', -1: 'Infeasible', -2: 'Unbounded', -3: 'Undefined'}\n",
    "status"
   ]
  },
  {
   "cell_type": "markdown",
   "id": "79a86540",
   "metadata": {},
   "source": [
    "#### 6. Check results."
   ]
  },
  {
   "cell_type": "code",
   "execution_count": 9,
   "id": "5cd78a69",
   "metadata": {},
   "outputs": [
    {
     "name": "stdout",
     "output_type": "stream",
     "text": [
      "Status: 1, Optimal\n",
      "Minimum cost: 6715850.0\n",
      "B1: 20.0\n",
      "B2: 36.32\n",
      "B3: 0.0\n",
      "F1: 0\n",
      "F2: 251\n",
      "F3: 0\n",
      "H1: 0\n",
      "H2: 0\n",
      "H3: 0\n",
      "I1: 0.0\n",
      "I2: 0.0\n",
      "I3: 0.22\n",
      "P1: 480.0\n",
      "P2: 303.68\n",
      "P3: 436.54\n",
      "W1: 1200\n",
      "W2: 949\n",
      "W3: 949\n"
     ]
    }
   ],
   "source": [
    "print(f\"Status: {model.status}, {LpStatus[model.status]}\")\n",
    "print(f\"Minimum cost: {model.objective.value()}\")\n",
    "for var in model.variables():\n",
    "     print(f\"{var.name}: {var.value()}\")"
   ]
  },
  {
   "cell_type": "code",
   "execution_count": null,
   "id": "0f52541f",
   "metadata": {},
   "outputs": [],
   "source": []
  }
 ],
 "metadata": {
  "kernelspec": {
   "display_name": "env_tutorial",
   "language": "python",
   "name": "env_tutorial"
  },
  "language_info": {
   "codemirror_mode": {
    "name": "ipython",
    "version": 3
   },
   "file_extension": ".py",
   "mimetype": "text/x-python",
   "name": "python",
   "nbconvert_exporter": "python",
   "pygments_lexer": "ipython3",
   "version": "3.10.9"
  }
 },
 "nbformat": 4,
 "nbformat_minor": 5
}
